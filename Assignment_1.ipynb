{
  "nbformat": 4,
  "nbformat_minor": 0,
  "metadata": {
    "colab": {
      "name": "Assignment-1.ipynb",
      "provenance": [],
      "collapsed_sections": []
    },
    "kernelspec": {
      "name": "python3",
      "display_name": "Python 3"
    },
    "language_info": {
      "name": "python"
    }
  },
  "cells": [
    {
      "cell_type": "markdown",
      "metadata": {
        "id": "wUcxnyCze5IV"
      },
      "source": [
        "1. In the below elements which of them are values or an expression? eg:- values can be integer or string and expressions will be mathematical operators.\n",
        " * \n",
        " 'hello'\n",
        "  -87.8, 6\n",
        " - \n",
        " / ,+,*\n",
        " +\t\n"
      ]
    },
    {
      "cell_type": "markdown",
      "metadata": {
        "id": "m9co9kvCp7HR"
      },
      "source": [
        "In Python operators are special symbols used to do some operations. The value that an operator acts on are called \"operands\". An operand can be either value or variable that refers to an object.<br>\n",
        "A sequence of operands and operators is called an \"Expression\"<br>\n",
        "For an expample:"
      ]
    },
    {
      "cell_type": "code",
      "metadata": {
        "id": "7FeRJ220dD54",
        "colab": {
          "base_uri": "https://localhost:8080/"
        },
        "outputId": "7d990014-9b03-4085-c7c5-ec967fbae370"
      },
      "source": [
        "a = 6           # a is an operand(Literal value)\n",
        "b = -87.8       # b is an operand(Literal value)\n",
        "name = 'Hello'  # name is an operand(variable)\n",
        "print(a + b)    # + is an operator that adds a & b operands(values)\n",
        "print(name * a)  # * is an operator that multiply name variable with an \"a\" value\n",
        "print((a+b) * b) # Expression with + & * operators doing multiple operations on values (operands)"
      ],
      "execution_count": null,
      "outputs": [
        {
          "output_type": "stream",
          "text": [
            "-81.8\n",
            "HelloHelloHelloHelloHelloHello\n",
            "7182.04\n"
          ],
          "name": "stdout"
        }
      ]
    },
    {
      "cell_type": "markdown",
      "metadata": {
        "id": "brl6HKeuuoFP"
      },
      "source": [
        "2. What is the difference between string and variable?"
      ]
    },
    {
      "cell_type": "markdown",
      "metadata": {
        "id": "rguLFzwqudud"
      },
      "source": [
        "A Variable is a store of information and string is a type of information you store in an variable. The string is enclosed in either \"  \" or '  '.<br>\n",
        "For an example:"
      ]
    },
    {
      "cell_type": "code",
      "metadata": {
        "colab": {
          "base_uri": "https://localhost:8080/",
          "height": 35
        },
        "id": "40X6gsNEvmd3",
        "outputId": "da19a7b0-bccb-45df-96ef-8cd1db9a6bfa"
      },
      "source": [
        "name = \"Ramesh Reddy\"  # Here name is an variable and Ramesh Reddy is an information stored in name enclosed with\"  \"\n",
        "name"
      ],
      "execution_count": null,
      "outputs": [
        {
          "output_type": "execute_result",
          "data": {
            "application/vnd.google.colaboratory.intrinsic+json": {
              "type": "string"
            },
            "text/plain": [
              "'Ramesh Reddy'"
            ]
          },
          "metadata": {
            "tags": []
          },
          "execution_count": 8
        }
      ]
    },
    {
      "cell_type": "markdown",
      "metadata": {
        "id": "YXo1coWdwREt"
      },
      "source": [
        "3. Describe three different data types.\n"
      ]
    },
    {
      "cell_type": "markdown",
      "metadata": {
        "id": "qB9r_b9wwWCM"
      },
      "source": [
        "Variables can store data of different data types and different types can do different operations.<br>\n",
        "Python has the following data types built in by default, in categories:<br>\n",
        "Text Type :   **str** <br>\n",
        "Numeric Type :  **int, float, complex**<br>\n",
        "Sequence Type : **List, Tuple, Range**<br>\n",
        "Mapping Type : **dict**<br>\n",
        "Set Type :      **set, frozen set**<br>\n",
        "Boolean Type : **bool**<br>\n",
        "Binary Type : **bytes, bytearray, memoryview**<br>\n",
        "You can get the data type of any variable using **type()** function:"
      ]
    },
    {
      "cell_type": "code",
      "metadata": {
        "colab": {
          "base_uri": "https://localhost:8080/"
        },
        "id": "evRJBxJSwF2b",
        "outputId": "b9494295-eb59-4ed6-80a4-92937a717ca7"
      },
      "source": [
        "x = \"Hello World\"\t\n",
        "print(type(x))\n",
        "x = 20\n",
        "print(type(x))\n",
        "x = [\"apple\", \"banana\", \"cherry\"]\t\n",
        "print(type(x))\n"
      ],
      "execution_count": null,
      "outputs": [
        {
          "output_type": "stream",
          "text": [
            "<class 'str'>\n",
            "<class 'int'>\n",
            "<class 'list'>\n"
          ],
          "name": "stdout"
        }
      ]
    },
    {
      "cell_type": "markdown",
      "metadata": {
        "id": "xV_1_sdxywsA"
      },
      "source": [
        "4. What is an expression made up of? What do all expressions do?"
      ]
    },
    {
      "cell_type": "markdown",
      "metadata": {
        "id": "TSjiGL9UzNzM"
      },
      "source": [
        "In Python an expression evaluates to a value. Expression is a combination of variables, operations, values that yield an result value.If we ask the Python to evalute the expression, the interpreter evaluates and displays the result.\n"
      ]
    },
    {
      "cell_type": "markdown",
      "metadata": {
        "id": "cxdFFf4U24Fw"
      },
      "source": [
        "5. What is the difference between an expression and a statement?"
      ]
    },
    {
      "cell_type": "markdown",
      "metadata": {
        "id": "gERYsoLT3FI4"
      },
      "source": [
        "**Expression**  :\n",
        " \n",
        "\n",
        "*   Expression is a combination of variables, operations, values that yield an result value.\n",
        "*   Expression always returns and print an value\n",
        "\n",
        "\n",
        "*   Examples Of Python Expressions: “Hello” + “World”, 4 + 5 etc.\n",
        "\n",
        "**Statement** :\n",
        "\n",
        "\n",
        "*   Statement never returns and print the value.\n",
        "*   Examples of Python Statements: Assignment statements, conditional branching, loops, classes, import, def, try, except, pass, del etc\n",
        "\n",
        "\n",
        "\n",
        "\n",
        "\n",
        "\n",
        "\n",
        "\n"
      ]
    },
    {
      "cell_type": "markdown",
      "metadata": {
        "id": "HJmADXWE4iV1"
      },
      "source": [
        "6. After running the following code, what does the variable bacon contain?"
      ]
    },
    {
      "cell_type": "code",
      "metadata": {
        "colab": {
          "base_uri": "https://localhost:8080/"
        },
        "id": "pXRP77nt4wzn",
        "outputId": "c25ff954-430e-415d-c653-868b2a40428f"
      },
      "source": [
        "bacon = 22\n",
        "bacon + 1\n"
      ],
      "execution_count": null,
      "outputs": [
        {
          "output_type": "execute_result",
          "data": {
            "text/plain": [
              "23"
            ]
          },
          "metadata": {
            "tags": []
          },
          "execution_count": 3
        }
      ]
    },
    {
      "cell_type": "markdown",
      "metadata": {
        "id": "h9XQlFN6AJXY"
      },
      "source": [
        "7. What should the values of the following two terms be?"
      ]
    },
    {
      "cell_type": "code",
      "metadata": {
        "colab": {
          "base_uri": "https://localhost:8080/"
        },
        "id": "bcip89jMAKoX",
        "outputId": "b6e3f597-34cc-4622-d0c2-a19b5b1f5613"
      },
      "source": [
        "print('spam' + 'spamspam')\n",
        "print('spam' * 3)\n"
      ],
      "execution_count": null,
      "outputs": [
        {
          "output_type": "stream",
          "text": [
            "spamspamspam\n",
            "spamspamspam\n"
          ],
          "name": "stdout"
        }
      ]
    },
    {
      "cell_type": "markdown",
      "metadata": {
        "id": "VvUMe1AS3vtl"
      },
      "source": [
        "8. Why is eggs a valid variable name while 100 is invalid?"
      ]
    },
    {
      "cell_type": "markdown",
      "metadata": {
        "id": "WvaJVQKs6-AS"
      },
      "source": [
        "Backtracking is avoided in **lexical analysis**  while compiling the code. The variable like eggs, the compiler will know its an identifier right away when it meets letter ‘e’ character in the lexical Analysis phase. However, a variable like 100, the compiler won’t be able to decide if its a number or identifier."
      ]
    },
    {
      "cell_type": "markdown",
      "metadata": {
        "id": "0U8vf4jGCNjc"
      },
      "source": [
        "9. What three functions can be used to get the integer, floating-point number, or string version of a value?"
      ]
    },
    {
      "cell_type": "markdown",
      "metadata": {
        "id": "4sNxhTjPCVP4"
      },
      "source": [
        "**int(), float() and str()** will evalaute to the integer, floating point number and string versions  once you passed the value."
      ]
    },
    {
      "cell_type": "markdown",
      "metadata": {
        "id": "t6lI08PJDSt_"
      },
      "source": [
        "10. Why does this expression cause an error? How can you fix it?\n",
        "'I have eaten ' + 99 + ' burritos.'\n"
      ]
    },
    {
      "cell_type": "markdown",
      "metadata": {
        "id": "GLUVEXc6DtbG"
      },
      "source": [
        "Error because **99 is an integer**, string can concatenate with another strings<br>\n",
        "The correct way is:"
      ]
    },
    {
      "cell_type": "code",
      "metadata": {
        "colab": {
          "base_uri": "https://localhost:8080/",
          "height": 35
        },
        "id": "DzE5QUtIEOu8",
        "outputId": "15d3dab6-b351-4627-fe98-a65ced5f4481"
      },
      "source": [
        "'I have eaten ' + str(99)+ ' burritos.' # Here we typecast the int to string using str() function."
      ],
      "execution_count": null,
      "outputs": [
        {
          "output_type": "execute_result",
          "data": {
            "application/vnd.google.colaboratory.intrinsic+json": {
              "type": "string"
            },
            "text/plain": [
              "'I have eaten 99 burritos.'"
            ]
          },
          "metadata": {
            "tags": []
          },
          "execution_count": 1
        }
      ]
    }
  ]
}